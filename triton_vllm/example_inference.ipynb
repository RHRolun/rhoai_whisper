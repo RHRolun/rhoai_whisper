{
 "cells": [
  {
   "cell_type": "code",
   "execution_count": null,
   "id": "d2fbc864",
   "metadata": {},
   "outputs": [],
   "source": [
    "import json\n",
    "import numpy as np\n",
    "import librosa\n",
    "\n",
    "# 1. Load and decode WAV to float32 PCM\n",
    "wav, sr = librosa.load(\"test.wav\", sr=16000)\n",
    "wav = wav.astype(np.float32)\n",
    "wav_list = wav.tolist()  # this is what the server wants\n",
    "\n",
    "# 2. Build the payload\n",
    "payload = {\n",
    "    \"WAV\": wav_list,\n",
    "    \"TEXT_PREFIX\": \"Transcribe and summarize the following audio:\",\n",
    "    \"text_input\": \"\"\n",
    "}\n",
    "\n",
    "# 3. Save to JSON\n",
    "with open(\"generate_payload.json\", \"w\") as f:\n",
    "    json.dump(payload, f)"
   ]
  },
  {
   "cell_type": "code",
   "execution_count": null,
   "id": "2eeceeb9",
   "metadata": {},
   "outputs": [],
   "source": [
    "%%bash\n",
    "curl -X POST 'http://whisper-triton-pred-predictor.whisper.svc.cluster.local:8080/v2/models/whisper/generate' \\\n",
    "  -H 'Content-Type: application/json' \\\n",
    "  -d @infer_payload.json"
   ]
  }
 ],
 "metadata": {
  "language_info": {
   "name": "python"
  }
 },
 "nbformat": 4,
 "nbformat_minor": 5
}
