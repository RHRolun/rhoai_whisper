{
 "cells": [
  {
   "cell_type": "code",
   "execution_count": null,
   "id": "d18c4415",
   "metadata": {},
   "outputs": [],
   "source": [
    "infer_endpoint = \"https://whisper-kserve-hf-whisper.apps.dev.rhoai.rh-aiservices-bu.com\"\n",
    "infer_url = f\"{infer_endpoint}/v1/models/model:predict\""
   ]
  },
  {
   "cell_type": "code",
   "execution_count": null,
   "id": "6df7bb0b",
   "metadata": {},
   "outputs": [],
   "source": [
    "import requests\n",
    "\n",
    "\n",
    "def rest_request(b64_data):\n",
    "    json_data = {\n",
    "        \"instances\": [\n",
    "            {\n",
    "                \"audio\": {\n",
    "                    \"type\": \"mp3\",\n",
    "                    \"b64\": b64_data\n",
    "                }\n",
    "            }\n",
    "        ]\n",
    "    }\n",
    "\n",
    "    response = requests.post(infer_url, json=json_data, verify=False)\n",
    "    response_dict = response.json()\n",
    "    return response_dict[\"predictions\"][0][\"transcription\"]"
   ]
  },
  {
   "cell_type": "code",
   "execution_count": null,
   "id": "c71d98d4",
   "metadata": {},
   "outputs": [],
   "source": [
    "import base64\n",
    "\n",
    "file_path = \"test.wav\"\n",
    "\n",
    "with open(file_path, \"rb\") as file:\n",
    "    audio_bytes = file.read()\n",
    "\n",
    "data = base64.b64encode(audio_bytes).decode()\n",
    "prediction = rest_request(data)\n",
    "prediction"
   ]
  }
 ],
 "metadata": {
  "language_info": {
   "name": "python"
  }
 },
 "nbformat": 4,
 "nbformat_minor": 5
}
